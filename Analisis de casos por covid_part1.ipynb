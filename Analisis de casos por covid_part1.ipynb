{
 "cells": [
  {
   "cell_type": "markdown",
   "metadata": {},
   "source": [
    "# Análisis Espacial de Casos por COVID-19"
   ]
  },
  {
   "cell_type": "raw",
   "metadata": {},
   "source": [
    "Se importan las bibliotecas necesarias para realizar el proyecto"
   ]
  },
  {
   "cell_type": "code",
   "execution_count": null,
   "metadata": {},
   "outputs": [],
   "source": [
    "import pandas as pd\n",
    "import numpy as np\n",
    "import matplotlib as plt"
   ]
  },
  {
   "cell_type": "code",
   "execution_count": null,
   "metadata": {},
   "outputs": [],
   "source": [
    "#pip install plotly\n",
    "#de no tener instalalado este modulo, se debe instalar."
   ]
  },
  {
   "cell_type": "code",
   "execution_count": null,
   "metadata": {},
   "outputs": [],
   "source": [
    "import plotly.express as px"
   ]
  },
  {
   "cell_type": "code",
   "execution_count": null,
   "metadata": {},
   "outputs": [],
   "source": [
    "import plotly\n",
    "import plotly.graph_objects as go\n",
    "from plotly import tools\n",
    "from plotly.offline import init_notebook_mode, plot, iplot"
   ]
  },
  {
   "cell_type": "markdown",
   "metadata": {},
   "source": [
    "Para que puedas realizar el ejemplo puedes descargar el conjunto de datos desde https://drive.google.com/file/d/1FSbf3MjbLxRsjesx6rdwMbV8ABwZAv4u/view?usp=sharing"
   ]
  },
  {
   "cell_type": "code",
   "execution_count": null,
   "metadata": {},
   "outputs": [],
   "source": [
    "current_data= pd.read_csv(\"C:/Users\\jorge\\Documents\\Geopython/countries-aggregated.csv\")\n",
    "current_data.head()"
   ]
  },
  {
   "cell_type": "code",
   "execution_count": null,
   "metadata": {},
   "outputs": [],
   "source": [
    "fig=px.choropleth(current_data, locations=\"Country\", locationmode=\"country names\", color= \"Confirmed\",animation_frame=\"Date\")\n"
   ]
  },
  {
   "cell_type": "code",
   "execution_count": null,
   "metadata": {},
   "outputs": [],
   "source": [
    "fig.update_layout(title=\"Mapa de casos confirmados de COVID-19 en el mundo\")\n",
    "fig.show()"
   ]
  },
  {
   "cell_type": "markdown",
   "metadata": {},
   "source": [
    "# En el ejemplo anterior vimos la evolución de casos por COVID-19  a nivel mundial. Sin embargo, choropleth permite hacer un análisis más detallado por continente o para USA, mediante el parametro \"scope\""
   ]
  },
  {
   "cell_type": "code",
   "execution_count": null,
   "metadata": {},
   "outputs": [],
   "source": [
    "fig=px.choropleth(current_data, locations=\"Country\", scope= \"south america\",locationmode=\"country names\", color= \"Confirmed\",animation_frame=\"Date\")\n",
    "fig.update_layout(title=\"Mapa de casos confirmados por COVID-19 en América del Sur\")\n",
    "fig.show()"
   ]
  },
  {
   "cell_type": "markdown",
   "metadata": {},
   "source": [
    "Ahora hacemos la visualización mediante un scatter-Geoplot"
   ]
  },
  {
   "cell_type": "code",
   "execution_count": null,
   "metadata": {},
   "outputs": [],
   "source": [
    "fig=px.scatter_geo(current_data, locations=\"Country\", locationmode=\"country names\", color=\"Confirmed\",size=\"Confirmed\", hover_name=\"Country\", animation_frame=\"Date\",title=\"Evolución en el tiempo\")\n",
    "fig.update(layout_coloraxis_showscale=False,layout_template=\"plotly_dark\") #cambiamos el fondo por negro y actualizamos la figura\n",
    "fig.show()"
   ]
  },
  {
   "cell_type": "markdown",
   "metadata": {},
   "source": [
    "# Este mismo análisis se puede hacer con los casos recuperados o muertes, tan solo es cambiar la variable \"Confirmed\" por \"Recovered\" o por  \"Deaths\""
   ]
  }
 ],
 "metadata": {
  "kernelspec": {
   "display_name": "Python 3",
   "language": "python",
   "name": "python3"
  },
  "language_info": {
   "codemirror_mode": {
    "name": "ipython",
    "version": 3
   },
   "file_extension": ".py",
   "mimetype": "text/x-python",
   "name": "python",
   "nbconvert_exporter": "python",
   "pygments_lexer": "ipython3",
   "version": "3.7.6"
  }
 },
 "nbformat": 4,
 "nbformat_minor": 4
}
